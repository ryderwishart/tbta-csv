{
 "cells": [
  {
   "cell_type": "code",
   "execution_count": null,
   "metadata": {},
   "outputs": [],
   "source": [
    "# NOTE: update this path to your downloaded TBTA data dump\n",
    "mdb_folder_path = \"/path/to/Bible-Ontology-English-May-12-2022/\"\n",
    "\n",
    "# NOTE: you will need the mdbtools package installed on your system\n",
    "# On MAC, you can install it in your Terminal app with homebrew: `brew install mdbtools`\n",
    "\n",
    "# Check the binary location in Terminal using `which mdb-export` and copy the path here\n",
    "mdb_export_binary = \"/opt/homebrew/bin/mdb-export\"  # Change this path to the one found on your system\n"
   ]
  },
  {
   "cell_type": "code",
   "execution_count": 3,
   "metadata": {},
   "outputs": [
    {
     "name": "stderr",
     "output_type": "stream",
     "text": [
      "Error: Table - does not exist in this database.\n",
      "Error: Table OLD does not exist in this database.\n"
     ]
    }
   ],
   "source": [
    "import csv\n",
    "import subprocess\n",
    "import os\n",
    "\n",
    "def mdb_to_csv(mdb_file_path, table_name, output_csv_path):\n",
    "\n",
    "    mdb_export = subprocess.Popen([mdb_export_binary, mdb_file_path, table_name], stdout=subprocess.PIPE, text=True)\n",
    "    csv_data, _ = mdb_export.communicate()\n",
    "\n",
    "    csv_reader = csv.reader(csv_data.splitlines())\n",
    "\n",
    "    with open(output_csv_path, \"w\", newline=\"\", encoding=\"utf-8\") as csv_file:\n",
    "        csv_writer = csv.writer(csv_file)\n",
    "        for row in csv_reader:\n",
    "            csv_writer.writerow(row)\n",
    "\n",
    "def get_table_names(mdb_file_path):\n",
    "    mdb_tables_binary = \"/opt/homebrew/bin/mdb-tables\"  # Change this path to the one found on your system\n",
    "\n",
    "    mdb_tables = subprocess.Popen([mdb_tables_binary, mdb_file_path], stdout=subprocess.PIPE, text=True)\n",
    "    table_names, _ = mdb_tables.communicate()\n",
    "\n",
    "    return table_names.split()\n",
    "\n",
    "for mdb_file in os.listdir(mdb_folder_path):\n",
    "    if mdb_file.endswith(\".mdb\"):\n",
    "        mdb_file_path = os.path.join(mdb_folder_path, mdb_file)\n",
    "        table_names = get_table_names(mdb_file_path)\n",
    "\n",
    "        for table_name in table_names:\n",
    "            output_csv_path = os.path.join(mdb_folder_path, f\"{table_name}.csv\")\n",
    "            mdb_to_csv(mdb_file_path, table_name, output_csv_path)\n"
   ]
  }
 ],
 "metadata": {
  "kernelspec": {
   "display_name": "Python 3",
   "language": "python",
   "name": "python3"
  },
  "language_info": {
   "codemirror_mode": {
    "name": "ipython",
    "version": 3
   },
   "file_extension": ".py",
   "mimetype": "text/x-python",
   "name": "python",
   "nbconvert_exporter": "python",
   "pygments_lexer": "ipython3",
   "version": "3.10.6"
  },
  "orig_nbformat": 4
 },
 "nbformat": 4,
 "nbformat_minor": 2
}
